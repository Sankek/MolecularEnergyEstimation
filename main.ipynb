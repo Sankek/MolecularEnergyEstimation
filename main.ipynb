{
 "cells": [
  {
   "cell_type": "markdown",
   "id": "3499eb5e",
   "metadata": {},
   "source": [
    "# Kaggle Molecular energy estimation. RUCODE 5.0\n",
    "https://www.kaggle.com/competitions/molecular-energy-estimation-rucode"
   ]
  },
  {
   "cell_type": "code",
   "execution_count": 1,
   "id": "40299f5c",
   "metadata": {},
   "outputs": [],
   "source": [
    "import os\n",
    "import pandas as pd\n",
    "import numpy as np\n",
    "import matplotlib.pyplot as plt\n",
    "import json\n",
    "\n",
    "from sklearn.model_selection import train_test_split\n",
    "\n",
    "from kaggle.api.kaggle_api_extended import KaggleApi\n",
    "\n",
    "import ase.db\n",
    "from ase.db import connect\n",
    "from ase.visualize import view\n",
    "import ase\n",
    "\n",
    "import torch\n",
    "import torch.nn as nn\n",
    "import torch.nn.functional as F\n",
    "\n",
    "import torch_geometric as tg\n",
    "import torch_geometric.data as tgd\n",
    "from torch_geometric.loader import DataLoader\n",
    "from torch_geometric.nn import GCNConv, global_mean_pool, BatchNorm\n",
    "\n",
    "from tqdm.notebook import tqdm"
   ]
  },
  {
   "cell_type": "code",
   "execution_count": 37,
   "id": "9e9e7cec",
   "metadata": {},
   "outputs": [
    {
     "data": {
      "text/plain": [
       "44"
      ]
     },
     "execution_count": 37,
     "metadata": {},
     "output_type": "execute_result"
    }
   ],
   "source": [
    "database_path = os.path.join('raw', 'train.db')  # Путь к файлу базы данных\n",
    "database = connect(database_path)  # Загрузка базы данных\n",
    "row = database.get(8)  # Взятие первого элемента из базы. Нумерация начинается с 1\n",
    "n_atoms = row.natoms  # Количество атомов в молекуле\n",
    "numbers = row.numbers  # Атомные числа атомов молекулы\n",
    "symbols = row.symbols  # Названия атомов молекулы\n",
    "positions = row.positions  # Координаты атомов. np.array размера n_atoms x 3\n",
    "energy = row.data.get('energy') # Энергия. np.array размера 1, содержащий энергию\n",
    "\n",
    "# additional\n",
    "mass = row.mass\n",
    "formula = row.formula\n",
    "n_atoms"
   ]
  },
  {
   "cell_type": "code",
   "execution_count": 54,
   "id": "0f9dbe72",
   "metadata": {},
   "outputs": [
    {
     "data": {
      "text/plain": [
       "'f,ff,f'"
      ]
     },
     "execution_count": 54,
     "metadata": {},
     "output_type": "execute_result"
    }
   ],
   "source": [
    "','.join('  f ff\\t\\t\\tf'.split())"
   ]
  },
  {
   "cell_type": "code",
   "execution_count": 47,
   "id": "0c3529b2",
   "metadata": {},
   "outputs": [
    {
     "data": {
      "text/plain": [
       "tensor([[ -2.1459, -10.9959,  -0.1324],\n",
       "        [ -6.0596,  -7.4755,   1.0196],\n",
       "        [-10.7091, -10.2310,   1.3479],\n",
       "        [ -5.2199,  -4.8879,   5.5567],\n",
       "        [ -0.8796,  -1.8321,   5.8659],\n",
       "        [ -0.7992,   2.1452,   2.5312],\n",
       "        [  1.1496,   2.3394,  -1.7402],\n",
       "        [  4.5844,  -2.2138,  -4.7827],\n",
       "        [ 10.7821,  -1.2138,  -3.0969],\n",
       "        [ 14.0728,  -4.7946,  -5.3978],\n",
       "        [ 12.5968,  -9.7380,  -3.7959],\n",
       "        [ 14.1063,  -4.4245, -10.3391],\n",
       "        [  0.2207,   6.7500,  -3.5475],\n",
       "        [ -2.3060,   9.2929,  -0.3818],\n",
       "        [ -2.9932,   6.4200,   3.5225],\n",
       "        [ -5.5196,   8.1051,   7.4460],\n",
       "        [ -6.0763,   5.4230,  10.9218],\n",
       "        [ -7.2305,  12.5913,   7.2480],\n",
       "        [ -6.5284,  15.3647,   3.3927],\n",
       "        [ -8.1619,  19.5895,   3.2520],\n",
       "        [ -4.1077,  13.8103,  -0.4145],\n",
       "        [ -3.2306,  16.6041,  -4.6569],\n",
       "        [ -3.4272, -14.6463,   0.7204],\n",
       "        [ -1.5473, -10.9685,  -4.1141],\n",
       "        [  1.2963, -10.2164,   1.5041],\n",
       "        [ -6.5781,  -4.9317,  -2.0036],\n",
       "        [-13.8068,  -8.0132,   0.3434],\n",
       "        [-11.1177, -12.0265,   4.8516],\n",
       "        [-10.4440, -13.1487,  -1.3483],\n",
       "        [ -5.2849,  -7.6468,   8.5090],\n",
       "        [ -8.5518,  -2.7409,   6.3477],\n",
       "        [  2.3191,  -4.0685,   5.1266],\n",
       "        [ -0.5336,  -0.5075,   9.5368],\n",
       "        [ 11.1550,  -1.5982,   0.8298],\n",
       "        [ 11.9047,   2.5118,  -3.9663],\n",
       "        [ 17.6889,  -4.1030,  -4.0927],\n",
       "        [ 15.8889, -11.9463,  -3.3691],\n",
       "        [ 10.0135, -11.2504,  -6.3005],\n",
       "        [ 10.8363,  -9.3632,  -0.2258],\n",
       "        [ 12.8168,  -1.3291, -11.2448],\n",
       "        [ -9.1628,  13.8997,  10.2307],\n",
       "        [ -5.3914,  14.9821,  -7.5708],\n",
       "        [ -4.1757,  20.4076,  -4.2019],\n",
       "        [  0.5562,  16.0754,  -5.6694]])"
      ]
     },
     "execution_count": 47,
     "metadata": {},
     "output_type": "execute_result"
    }
   ],
   "source": [
    "torch.from_numpy(positions.astype(np.float32))"
   ]
  },
  {
   "cell_type": "code",
   "execution_count": 46,
   "id": "b2b24445",
   "metadata": {},
   "outputs": [
    {
     "data": {
      "text/plain": [
       "tensor([ 6,  6,  6,  6,  6,  7,  6, 16,  6,  6,  6,  8,  7,  6,  6,  6,  8,  7,\n",
       "         6,  8,  7,  6,  1,  1,  1,  1,  1,  1,  1,  1,  1,  1,  1,  1,  1,  1,\n",
       "         1,  1,  1,  1,  1,  1,  1,  1])"
      ]
     },
     "execution_count": 46,
     "metadata": {},
     "output_type": "execute_result"
    }
   ],
   "source": [
    "torch.from_numpy(numbers.astype(np.int64))"
   ]
  },
  {
   "cell_type": "code",
   "execution_count": 480,
   "id": "08ed6691",
   "metadata": {},
   "outputs": [],
   "source": [
    "# unique_symbols = set()\n",
    "# for row in tqdm(database.select(), total=database.count()):\n",
    "#     unique_symbols.update(np.unique(row.symbols))\n",
    "# unique_symbols = list(unique_symbols)"
   ]
  },
  {
   "cell_type": "code",
   "execution_count": 327,
   "id": "4f5aba4c",
   "metadata": {
    "collapsed": true
   },
   "outputs": [
    {
     "data": {
      "application/vnd.jupyter.widget-view+json": {
       "model_id": "3a05ff371a7045e59792e01c7df90809",
       "version_major": 2,
       "version_minor": 0
      },
      "text/plain": [
       "HBox(children=(NGLWidget(), VBox(children=(Dropdown(description='Show', options=('All', 'O', 'H', 'N', 'S', 'C…"
      ]
     },
     "metadata": {},
     "output_type": "display_data"
    }
   ],
   "source": [
    "# # 3D visualizer\n",
    "# atoms = row.toatoms()\n",
    "# view(atoms, viewer='ngl')"
   ]
  },
  {
   "cell_type": "code",
   "execution_count": 172,
   "id": "bd1be570",
   "metadata": {},
   "outputs": [],
   "source": [
    "# attributes = ['id', 'natoms', 'numbers', 'symbols', 'positions', 'mass', 'formula']\n",
    "# data_columns = ['energy']\n",
    "# columns = attributes + data_columns\n",
    "\n",
    "# df = pd.DataFrame(columns=columns)\n",
    "# i = 0\n",
    "# for row in tqdm(database.select(), total=database.count()):\n",
    "#     attributes_dict = {col:row.get(col) for col in attributes}\n",
    "#     data_columns_dict = {col:row.data.get(col) for col in data_columns}\n",
    "#     columns_dict = dict(attributes_dict, **data_columns_dict)\n",
    "#     df = df.append(columns_dict, ignore_index=True)\n",
    "    \n",
    "#     i += 1\n",
    "#     if i>10000:\n",
    "#         break\n",
    "        \n",
    "# df = df.set_index('id')"
   ]
  },
  {
   "cell_type": "code",
   "execution_count": 2,
   "id": "5df69a58",
   "metadata": {},
   "outputs": [],
   "source": [
    "from sklearn.preprocessing import LabelBinarizer\n",
    "from sklearn.preprocessing import LabelEncoder\n",
    "from sklearn.preprocessing import OneHotEncoder"
   ]
  },
  {
   "cell_type": "code",
   "execution_count": 3,
   "id": "f453319c",
   "metadata": {},
   "outputs": [],
   "source": [
    "def one_hot_encode_LabelEncoder(y, unique):\n",
    "    label_encoder = LabelEncoder().fit(unique)    \n",
    "    integer_encoded = label_encoder.transform(y)\n",
    "    one_hot_encoded = np.eye(len(label_encoder.classes_), dtype=int)[integer_encoded]\n",
    "    \n",
    "    return one_hot_encoded\n",
    "\n",
    "def one_hot_encode_LabelBinarizer(y, unique):\n",
    "    binarizer = LabelBinarizer().fit(unique)\n",
    "    one_hot_encoded = binarizer.transform(y)\n",
    "    \n",
    "    return one_hot_encoded\n",
    "\n",
    "def one_hot_encode_OneHotEncoder(y, unique):\n",
    "    one_hot_encoder = OneHotEncoder().fit(np.array(unique).reshape(-1, 1))\n",
    "    one_hot_encoded = one_hot_encoder.transform(np.array(y).reshape(-1, 1)).toarray().astype(int)    \n",
    "\n",
    "    return one_hot_encoded\n",
    "\n",
    "def one_hot_encode(y, unique):\n",
    "    binarizer = LabelBinarizer().fit(unique)\n",
    "    one_hot_encoded = binarizer.transform(y)\n",
    "    \n",
    "    return one_hot_encoded    "
   ]
  },
  {
   "cell_type": "code",
   "execution_count": 4,
   "id": "17fbdbdc",
   "metadata": {},
   "outputs": [],
   "source": [
    "def get_edge_index(positions, link_cutoff=10):\n",
    "    link_cutoff = 10\n",
    "    distances = np.linalg.norm((np.expand_dims(positions, 1) - np.expand_dims(positions, 0)), axis=2)\n",
    "    mask = distances < link_cutoff\n",
    "    np.fill_diagonal(mask, False)\n",
    "    \n",
    "    import scipy\n",
    "    sparse_matrix = scipy.sparse.csr_matrix(mask.astype(int))\n",
    "    edge_index, edge_attrs = tg.utils.from_scipy_sparse_matrix(sparse_matrix)\n",
    "    \n",
    "    return edge_index"
   ]
  },
  {
   "cell_type": "code",
   "execution_count": 444,
   "id": "171c1e38",
   "metadata": {},
   "outputs": [
    {
     "data": {
      "image/png": "[encoded data removed]",
      "text/plain": [
       "<Figure size 1440x288 with 8 Axes>"
      ]
     },
     "metadata": {
      "needs_background": "light"
     },
     "output_type": "display_data"
    }
   ],
   "source": [
    "# import seaborn as sns\n",
    "\n",
    "# multiplier = 5\n",
    "# fig, ax = plt.subplots(1, 4, figsize=(20, 4))\n",
    "# for i in range(4):\n",
    "#     link_cutoff = multiplier * (i+1)\n",
    "    \n",
    "#     c_matrix = np.linalg.norm((np.expand_dims(positions, 1) - np.expand_dims(positions, 0)), axis=2) < link_cutoff\n",
    "#     np.fill_diagonal(c_matrix, False)\n",
    "    \n",
    "#     sns.heatmap(c_matrix, ax=ax[i])\n",
    "#     ax[i].set_title(f'cutoff = {link_cutoff}')\n",
    "# plt.show()"
   ]
  },
  {
   "cell_type": "code",
   "execution_count": 5,
   "id": "3bb30df2",
   "metadata": {},
   "outputs": [],
   "source": [
    "def get_data(row, unique_symbols):\n",
    "    n_atoms = row.natoms  \n",
    "    numbers = row.numbers \n",
    "    positions = row.positions\n",
    "    energy_array = row.data.get('energy')\n",
    "    energy = torch.from_numpy(energy_array.astype(np.float32)) if energy_array else None\n",
    "\n",
    "    symbols = row.symbols\n",
    "    one_hot_symbols = one_hot_encode(symbols, unique_symbols)\n",
    "\n",
    "    x = np.concatenate((positions, one_hot_encode(symbols, unique_symbols)), axis=1)\n",
    "    data = tgd.Data(x=x, edge_index=get_edge_index(positions), num_nodes=n_atoms, y=energy)     \n",
    "\n",
    "    x = torch.from_numpy(\n",
    "        np.concatenate(\n",
    "            (positions.astype(np.float32), one_hot_symbols), \n",
    "            dtype=np.float32, axis=1\n",
    "        )\n",
    "    )\n",
    "\n",
    "    data = tgd.Data(x=x, edge_index=get_edge_index(positions), num_nodes=n_atoms, y=energy)\n",
    "    \n",
    "    return data"
   ]
  },
  {
   "cell_type": "code",
   "execution_count": 6,
   "id": "2a1c3841",
   "metadata": {},
   "outputs": [],
   "source": [
    "# class KaggleDataset(tgd.Dataset):\n",
    "#     def __init__(self, root, competition_name, transform=None, pre_transform=None, pre_filter=None):\n",
    "#         self.competition_name = competition_name\n",
    "#         self.kaggle_api = KaggleApi()\n",
    "#         self.kaggle_api.authenticate()\n",
    "\n",
    "#         super().__init__(root, transform, pre_transform, pre_filter)\n",
    "        \n",
    "        \n",
    "#     @property\n",
    "#     def raw_file_names(self):\n",
    "#         return [str(f) for f in self.kaggle_api.competition_list_files(self.competition_name)]\n",
    "\n",
    "\n",
    "#     def kaggle_download(self):\n",
    "#         self.kaggle_api.competition_download_files(self.competition_name)\n",
    "\n",
    "#         archive_path = os.path.join(self.root, self.competition_name + '.zip')\n",
    "#         tgd.extract_zip(archive_path, self.raw_dir, log=False)\n",
    "#         os.remove(archive_path)\n",
    "\n",
    "        \n",
    "# class MOSESDataset(KaggleDataset):\n",
    "#     def __init__(self, root, competition_name, mode,\n",
    "#                  transform=None, pre_transform=None, pre_filter=None):\n",
    "        \n",
    "#         self.modes = ['train', 'test']\n",
    "#         if mode not in self.modes:\n",
    "#             raise ValueError(f'{mode} mode not in {self.modes}')\n",
    "#         self.mode = mode\n",
    "#         super().__init__(root, competition_name, transform, pre_transform, pre_filter)\n",
    "        \n",
    "#         self.len_ = len(self.processed_file_names)\n",
    "        \n",
    "#     def download(self):\n",
    "#         self.kaggle_download()\n",
    "        \n",
    "#     @property\n",
    "#     def processed_file_names(self):\n",
    "# #         return [f'{self.mode}_dataset.hdf']\n",
    "\n",
    "#         database_path = os.path.join(self.raw_dir, f'{self.mode}.db')\n",
    "#         database = connect(database_path)\n",
    "#         file_names = [self._saved_file_name(idx) for idx in range(database.count())]\n",
    "        \n",
    "#         return file_names\n",
    "    \n",
    "#     def process(self):\n",
    "#         database_path = os.path.join(self.raw_dir, f'{self.mode}.db')  # Путь к файлу базы данных\n",
    "#         database = connect(database_path)  # Загрузка базы данных\n",
    "        \n",
    "# #         attributes = ['id', 'natoms', 'numbers', 'symbols', 'positions', 'mass', 'formula']\n",
    "# #         data_columns = ['energy']\n",
    "# #         columns = attributes + data_columns\n",
    "# #         df = pd.DataFrame(columns=columns)\n",
    "# #         i = 0\n",
    "# #         for row in tqdm(database.select(), total=database.count()):\n",
    "# #             attributes_dict = {col:row.get(col) for col in attributes}\n",
    "# #             data_columns_dict = {col:row.data.get(col) for col in data_columns}\n",
    "# #             columns_dict = dict(attributes_dict, **data_columns_dict)\n",
    "# #             df = df.append(columns_dict, ignore_index=True)\n",
    "\n",
    "# #             i += 1\n",
    "# #             if i>1000:\n",
    "# #                 break\n",
    "# #         df.to_hdf(os.path.join(self.processed_dir, f'{self.mode}_dataset.hdf'), key='df')\n",
    "        \n",
    "#         unique_symbols_path = os.path.join(self.processed_dir, 'unique_symbols.json')\n",
    "#         if os.path.exists(unique_symbols_path):\n",
    "#             with open(unique_symbols_path, 'r') as f:\n",
    "#                 unique_symbols = json.load(f)\n",
    "#         else:\n",
    "#             unique_symbols = set()\n",
    "#             for row in tqdm(database.select(), total=database.count()):\n",
    "#                 unique_symbols.update(np.unique(row.symbols))\n",
    "#             unique_symbols = list(unique_symbols)\n",
    "            \n",
    "#             with open('test.json', 'w') as f:\n",
    "#                 json.dump(unique_symbols, f)\n",
    "                \n",
    "#         self.unique_symbols = unique_symbols\n",
    "        \n",
    "#         for idx, row in tqdm(enumerate(database.select()), total=database.count()):\n",
    "#             n_atoms = row.natoms  # Количество атомов в молекуле\n",
    "#             numbers = row.numbers  # Атомные числа атомов молекулы\n",
    "#             symbols = row.symbols  # Названия атомов молекулы\n",
    "#             positions = row.positions  # Координаты атомов. np.array размера n_atoms x 3\n",
    "            \n",
    "#             if self.mode == 'train':\n",
    "#                 energy = row.data.get('energy') # Энергия. np.array размера 1, содержащий энергию\n",
    "            \n",
    "#             x = np.concatenate((positions, one_hot_encode(symbols, unique_symbols)), axis=1)\n",
    "#             data = tgd.Data(x=x, edge_index=get_edge_index(positions), num_nodes=n_atoms, y=energy)\n",
    "            \n",
    "#             if self.pre_filter is not None and not self.pre_filter(data):\n",
    "#                 continue\n",
    "\n",
    "#             if self.pre_transform is not None:\n",
    "#                 data = self.pre_transform(data)\n",
    "                \n",
    "#             torch.save(data, os.path.join(self.processed_dir, self._saved_file_name(idx)))\n",
    "            \n",
    "        \n",
    "#     def len(self):\n",
    "#         return self.len_\n",
    "\n",
    "#     def _saved_file_name(self, idx):\n",
    "#         return f'data_{self.mode}_{idx}.pt'\n",
    "\n",
    "#     def get(self, idx):\n",
    "#         data = torch.load(os.path.join(self.processed_dir, self._saved_file_name(idx)))\n",
    "#         return data   \n",
    "    \n",
    "    \n",
    "# class MOSESDataset(KaggleDataset):\n",
    "#     def __init__(self, root, competition_name, mode,\n",
    "#                  transform=None, pre_transform=None, pre_filter=None):\n",
    "        \n",
    "#         self.unique_symbols_name = 'unique_symbols.json'\n",
    "#         super().__init__(root, competition_name, transform, pre_transform, pre_filter)\n",
    "#         self.unique_symbols_path = os.path.join(self.processed_dir, self.unique_symbols_name)\n",
    "        \n",
    "#         self.modes = ['train', 'test']\n",
    "#         if mode not in self.modes:\n",
    "#             raise ValueError(f'{mode} mode not in {self.modes}')\n",
    "#         self.mode = mode\n",
    "        \n",
    "#         database_path = os.path.join(self.raw_dir, f'{self.mode}.db')  # Путь к файлу базы данных\n",
    "#         self.database = ase.db.connect(database_path)  # Загрузка базы данных\n",
    "#         self.len_ = self.database.count()\n",
    "        \n",
    "#         if os.path.exists(self.unique_symbols_path):\n",
    "#             with open(self.unique_symbols_path, 'r') as f:\n",
    "#                 self.unique_symbols = json.load(f)\n",
    "        \n",
    "        \n",
    "#     def download(self):\n",
    "#         self.kaggle_download()\n",
    "        \n",
    "#     @property\n",
    "#     def processed_file_names(self):\n",
    "#         return [self.unique_symbols_name]\n",
    "    \n",
    "#     def process(self):\n",
    "#         unique_symbols = set()\n",
    "#         for row in tqdm(self.database.select(), total=self.database.count()):\n",
    "#             unique_symbols.update(np.unique(row.symbols))\n",
    "#         unique_symbols = list(unique_symbols)\n",
    "\n",
    "#         with open(self.unique_symbols_path, 'w') as f:\n",
    "#             json.dump(unique_symbols, f)\n",
    "                \n",
    "#         self.unique_symbols = unique_symbols\n",
    "\n",
    "        \n",
    "#     def len(self):\n",
    "#         return self.len_\n",
    "\n",
    "#     def _saved_file_name(self, idx):\n",
    "#         return f'data_{self.mode}_{idx}.pt'\n",
    "\n",
    "#     def get(self, idx):\n",
    "#         row = self.database.get(idx+1)\n",
    "#         n_atoms = row.natoms  # Количество атомов в молекуле\n",
    "#         numbers = row.numbers  # Атомные числа атомов молекулы\n",
    "#         symbols = row.symbols  # Названия атомов молекулы\n",
    "#         positions = row.positions  # Координаты атомов. np.array размера n_atoms x 3\n",
    "\n",
    "#         if self.mode == 'train':\n",
    "#             energy = row.data.get('energy')[0] # Энергия. np.array размера 1, содержащий энергию\n",
    "#         else:\n",
    "#             energy = None\n",
    "\n",
    "#         x = torch.from_numpy(np.concatenate((positions.astype(np.float32), one_hot_encode(symbols, self.unique_symbols)), dtype=np.float32, axis=1))\n",
    "#         data = tgd.Data(x=x, edge_index=get_edge_index(positions), num_nodes=n_atoms, y=energy)\n",
    "\n",
    "#         if self.pre_filter is not None and not self.pre_filter(data):\n",
    "#             pass\n",
    "\n",
    "#         if self.pre_transform is not None:\n",
    "#             data = self.pre_transform(data)\n",
    "        \n",
    "#         return data   \n",
    "    \n",
    "    \n",
    "class MOSESDataset(tgd.InMemoryDataset):\n",
    "    def __init__(self, competition_name, root, mode, transform=None, pre_transform=None, pre_filter=None):\n",
    "        self.competition_name = competition_name\n",
    "        \n",
    "        self.load_idx = {'train':0, 'val':1, 'test':2}\n",
    "        self.modes = list(self.load_idx.keys())\n",
    "\n",
    "        if mode not in self.modes:\n",
    "            raise ValueError(f'{mode} mode not in {self.modes}')\n",
    "        self.mode = mode\n",
    "        \n",
    "        self.kaggle_api = KaggleApi()\n",
    "        self.kaggle_api.authenticate()\n",
    "        \n",
    "        super().__init__(root, transform, pre_transform, pre_filter)\n",
    "        self.data, self.slices = torch.load(self.processed_paths[self.load_idx[self.mode]])\n",
    "        \n",
    "\n",
    "    @property\n",
    "    def raw_file_names(self):\n",
    "        return [str(f) for f in self.kaggle_api.competition_list_files(self.competition_name)]\n",
    "\n",
    "    @property\n",
    "    def processed_file_names(self):\n",
    "        modes_data = [f'{mode}_data.pt' for mode in self.modes]\n",
    "        return modes_data + ['unique_symbols.json']\n",
    "\n",
    "    def download(self):\n",
    "        self.kaggle_api.competition_download_files(self.competition_name, path=self.root)\n",
    "\n",
    "        archive_path = os.path.join(self.root, self.competition_name + '.zip')\n",
    "        tgd.extract_zip(archive_path, self.raw_dir, log=False)\n",
    "        os.remove(archive_path)\n",
    "\n",
    "    def process(self):\n",
    "        train_val_database_path = os.path.join(self.raw_dir, f'train.db')\n",
    "        test_database_path = os.path.join(self.raw_dir, f'test.db')\n",
    "        unique_symbols_name = 'unique_symbols.json'\n",
    "       \n",
    "        train_val_database = connect(train_val_database_path)\n",
    "        train_val_size = train_val_database.count()\n",
    "        \n",
    "        test_database = connect(test_database_path)\n",
    "        test_size = test_database.count()\n",
    "\n",
    "        unique_symbols_path = os.path.join(self.processed_dir, unique_symbols_name)\n",
    "        if os.path.exists(unique_symbols_path):\n",
    "            with open(unique_symbols_path, 'r') as f:\n",
    "                unique_symbols = json.load(f)\n",
    "        else:\n",
    "            unique_symbols = set()\n",
    "            for row in tqdm(train_val_database.select(), total=train_val_database.count()):\n",
    "                unique_symbols.update(np.unique(row.symbols))\n",
    "            unique_symbols = list(unique_symbols)\n",
    "\n",
    "            with open(unique_symbols_path, 'w') as f:\n",
    "                json.dump(unique_symbols, f)\n",
    "\n",
    "        # train/val split\n",
    "        val_size = 0.2\n",
    "        val_idxs = np.random.choice(np.arange(train_val_size), size=int(val_size*train_val_size))\n",
    "        \n",
    "        mode_list = {\n",
    "            'train': [],\n",
    "            'val': [],\n",
    "            'test': []\n",
    "        }\n",
    "\n",
    "        for idx, row in tqdm(enumerate(train_val_database.select()), total=train_val_size):\n",
    "            data = get_data(row, unique_symbols)\n",
    "            \n",
    "            if idx in val_idxs:\n",
    "                mode_list['val'].append(data)\n",
    "            else:\n",
    "                mode_list['train'].append(data)\n",
    "                \n",
    "        for idx, row in tqdm(enumerate(test_database.select()), total=test_size):\n",
    "            data = get_data(row, unique_symbols)\n",
    "            mode_list['test'].append(data)\n",
    "           \n",
    "        \n",
    "        for mode in self.modes:\n",
    "            if self.pre_filter is not None:\n",
    "                mode_list[mode] = [data for data in mode_list[mode] if self.pre_filter(data)]\n",
    "\n",
    "            if self.pre_transform is not None:\n",
    "                mode_list[mode] = [self.pre_transform(data) for data in mode_list[mode]]\n",
    "                \n",
    "            data, slices = self.collate(mode_list[mode])\n",
    "            torch.save((data, slices), self.processed_paths[self.load_idx[mode]])\n",
    "            "
   ]
  },
  {
   "cell_type": "code",
   "execution_count": 7,
   "id": "366a12ef",
   "metadata": {
    "scrolled": true
   },
   "outputs": [
    {
     "name": "stderr",
     "output_type": "stream",
     "text": [
      "Processing...\n"
     ]
    },
    {
     "data": {
      "application/vnd.jupyter.widget-view+json": {
       "model_id": "d6ee7fc6dbda4ae0b7ad78de63438ff8",
       "version_major": 2,
       "version_minor": 0
      },
      "text/plain": [
       "  0%|          | 0/138365 [00:00<?, ?it/s]"
      ]
     },
     "metadata": {},
     "output_type": "display_data"
    },
    {
     "data": {
      "application/vnd.jupyter.widget-view+json": {
       "model_id": "d262d208b5e04f5389836fec23f75af7",
       "version_major": 2,
       "version_minor": 0
      },
      "text/plain": [
       "  0%|          | 0/70905 [00:00<?, ?it/s]"
      ]
     },
     "metadata": {},
     "output_type": "display_data"
    },
    {
     "name": "stderr",
     "output_type": "stream",
     "text": [
      "Done!\n"
     ]
    }
   ],
   "source": [
    "competition_name = 'molecular-energy-estimation-rucode'\n",
    "train_dataset = MOSESDataset(competition_name, '.', 'train')\n",
    "val_dataset = MOSESDataset(competition_name, '.', 'val')\n",
    "test_dataset = MOSESDataset(competition_name, '.', 'test')"
   ]
  },
  {
   "cell_type": "code",
   "execution_count": 8,
   "id": "d562437a",
   "metadata": {},
   "outputs": [],
   "source": [
    "train_loader = DataLoader(train_dataset, batch_size=32, shuffle=True)\n",
    "val_loader = DataLoader(val_dataset, batch_size=32, shuffle=True)\n",
    "test_loader = DataLoader(test_dataset, batch_size=32, shuffle=False)"
   ]
  },
  {
   "cell_type": "code",
   "execution_count": 9,
   "id": "7e0b884e",
   "metadata": {},
   "outputs": [],
   "source": [
    "class GCN(nn.Module):\n",
    "    def __init__(self, num_node_features, num_classes):\n",
    "        super().__init__()\n",
    "        self.conv1 = GCNConv(num_node_features, 16)\n",
    "        self.conv2 = GCNConv(16, num_classes)\n",
    "\n",
    "    def forward(self, data):\n",
    "        x, edge_index = data.x, data.edge_index\n",
    "\n",
    "        x = self.conv1(x, edge_index)\n",
    "        x = F.relu(x)\n",
    "        x = F.dropout(x, training=self.training)\n",
    "        x = self.conv2(x, edge_index)\n",
    "\n",
    "        return global_mean_pool(x, data.batch)\n",
    "\n",
    "class SimpleGCNet(nn.Module):\n",
    "    def __init__(self, in_channels, hidden_channels, out_channels):\n",
    "        super(SimpleGCNet, self).__init__()\n",
    "        self.conv1 = GCNConv(in_channels, hidden_channels)\n",
    "        self.bn1 = BatchNorm(hidden_channels)\n",
    "        self.conv2 = GCNConv(hidden_channels, hidden_channels)\n",
    "        self.bn2 = BatchNorm(hidden_channels)\n",
    "        self.conv3 = GCNConv(hidden_channels, hidden_channels)\n",
    "        self.bn3 = BatchNorm(hidden_channels, )\n",
    "        self.lin = nn.Linear(hidden_channels, out_channels)\n",
    "\n",
    "    def forward(self, x, edge_index, batch_index):\n",
    "\n",
    "        # Step 1. Graph Convolutions\n",
    "\n",
    "        x = self.conv1(x, edge_index)\n",
    "        x = F.relu(x)\n",
    "        x = self.bn1(x)\n",
    "        x = self.conv2(x, edge_index)\n",
    "        x = F.relu(x)\n",
    "        x = self.bn2(x)\n",
    "        x = self.conv3(x, edge_index)\n",
    "        x = F.relu(x)\n",
    "        x = self.bn3(x)\n",
    "\n",
    "        # Step 2. Global Pooling\n",
    "\n",
    "        x = global_mean_pool(x, batch_index)\n",
    "\n",
    "        # Step 3. Classification\n",
    "        x = F.dropout(x, p=0.5, training=self.training)\n",
    "        x = self.lin(x)\n",
    "        return x"
   ]
  },
  {
   "cell_type": "code",
   "execution_count": 14,
   "id": "6ed93f7f",
   "metadata": {},
   "outputs": [],
   "source": [
    "device = torch.device('cuda' if torch.cuda.is_available() else 'cpu')\n",
    "\n",
    "model = SimpleGCNet(in_channels=train_dataset.num_node_features,\n",
    "                    hidden_channels=64,\n",
    "                    out_channels=1).to(device)\n",
    "\n",
    "\n",
    "model = GCN(train_dataset.num_node_features, 1)\n",
    "\n",
    "optimizer = torch.optim.Adam(model.parameters(), lr=0.005, weight_decay=5e-4)\n",
    "criterion = torch.nn.L1Loss()"
   ]
  },
  {
   "cell_type": "code",
   "execution_count": 26,
   "id": "4710941d",
   "metadata": {},
   "outputs": [],
   "source": [
    "data = next(iter(train_loader))"
   ]
  },
  {
   "cell_type": "code",
   "execution_count": 30,
   "id": "73d306c8",
   "metadata": {},
   "outputs": [
    {
     "data": {
      "text/plain": [
       "tensor(1409.0341, grad_fn=<L1LossBackward0>)"
      ]
     },
     "execution_count": 30,
     "metadata": {},
     "output_type": "execute_result"
    }
   ],
   "source": [
    "criterion(model(data), data.y)"
   ]
  },
  {
   "cell_type": "code",
   "execution_count": 33,
   "id": "2372eeb7",
   "metadata": {},
   "outputs": [],
   "source": [
    "def train():\n",
    "    model.train()\n",
    "\n",
    "    epoch_loss = 0\n",
    "    for data in tqdm(train_loader):  \n",
    "        data.to(device)\n",
    "        out = model(data)  \n",
    "        loss = criterion(out, data.y.reshape(-1, 1))\n",
    "        loss.backward()\n",
    "        epoch_loss += loss  \n",
    "        optimizer.step() \n",
    "        optimizer.zero_grad()\n",
    "\n",
    "    return epoch_loss \n",
    "\n",
    "def validate(loader):\n",
    "    model.eval()\n",
    "\n",
    "    loss = 0\n",
    "    with torch.no_grad():\n",
    "        for data in tqdm(loader):\n",
    "            data.to(device)\n",
    "            out = model(data)  \n",
    "            loss += criterion(out, data.y.reshape(-1, 1))\n",
    "        return loss / len(loader) "
   ]
  },
  {
   "cell_type": "code",
   "execution_count": 34,
   "id": "33b8e01e",
   "metadata": {
    "scrolled": true
   },
   "outputs": [
    {
     "data": {
      "application/vnd.jupyter.widget-view+json": {
       "model_id": "5038ceb5e03547008ac4396b927f1633",
       "version_major": 2,
       "version_minor": 0
      },
      "text/plain": [
       "  0%|          | 0/3540 [00:00<?, ?it/s]"
      ]
     },
     "metadata": {},
     "output_type": "display_data"
    },
    {
     "ename": "KeyboardInterrupt",
     "evalue": "",
     "output_type": "error",
     "traceback": [
      "\u001b[1;31m---------------------------------------------------------------------------\u001b[0m",
      "\u001b[1;31mKeyboardInterrupt\u001b[0m                         Traceback (most recent call last)",
      "\u001b[1;32m~\\AppData\\Local\\Temp\\ipykernel_544\\3966543016.py\u001b[0m in \u001b[0;36m<module>\u001b[1;34m\u001b[0m\n\u001b[0;32m      3\u001b[0m \u001b[0mepochs\u001b[0m \u001b[1;33m=\u001b[0m \u001b[1;36m400\u001b[0m\u001b[1;33m\u001b[0m\u001b[1;33m\u001b[0m\u001b[0m\n\u001b[0;32m      4\u001b[0m \u001b[1;32mfor\u001b[0m \u001b[0mepoch\u001b[0m \u001b[1;32min\u001b[0m \u001b[0mrange\u001b[0m\u001b[1;33m(\u001b[0m\u001b[1;36m1\u001b[0m\u001b[1;33m,\u001b[0m \u001b[0mepochs\u001b[0m\u001b[1;33m+\u001b[0m\u001b[1;36m1\u001b[0m\u001b[1;33m)\u001b[0m\u001b[1;33m:\u001b[0m\u001b[1;33m\u001b[0m\u001b[1;33m\u001b[0m\u001b[0m\n\u001b[1;32m----> 5\u001b[1;33m     \u001b[0mtrain_loss\u001b[0m \u001b[1;33m=\u001b[0m \u001b[0mtrain\u001b[0m\u001b[1;33m(\u001b[0m\u001b[1;33m)\u001b[0m\u001b[1;33m\u001b[0m\u001b[1;33m\u001b[0m\u001b[0m\n\u001b[0m\u001b[0;32m      6\u001b[0m     \u001b[0mval_loss\u001b[0m \u001b[1;33m=\u001b[0m \u001b[0mvalidate\u001b[0m\u001b[1;33m(\u001b[0m\u001b[0mval_loader\u001b[0m\u001b[1;33m)\u001b[0m\u001b[1;33m\u001b[0m\u001b[1;33m\u001b[0m\u001b[0m\n\u001b[0;32m      7\u001b[0m     \u001b[1;32mif\u001b[0m \u001b[0mepoch\u001b[0m \u001b[1;33m%\u001b[0m \u001b[1;36m10\u001b[0m \u001b[1;33m==\u001b[0m \u001b[1;36m0\u001b[0m\u001b[1;33m:\u001b[0m\u001b[1;33m\u001b[0m\u001b[1;33m\u001b[0m\u001b[0m\n",
      "\u001b[1;32m~\\AppData\\Local\\Temp\\ipykernel_544\\1890156546.py\u001b[0m in \u001b[0;36mtrain\u001b[1;34m()\u001b[0m\n\u001b[0;32m      7\u001b[0m         \u001b[0mout\u001b[0m \u001b[1;33m=\u001b[0m \u001b[0mmodel\u001b[0m\u001b[1;33m(\u001b[0m\u001b[0mdata\u001b[0m\u001b[1;33m)\u001b[0m\u001b[1;33m\u001b[0m\u001b[1;33m\u001b[0m\u001b[0m\n\u001b[0;32m      8\u001b[0m         \u001b[0mloss\u001b[0m \u001b[1;33m=\u001b[0m \u001b[0mcriterion\u001b[0m\u001b[1;33m(\u001b[0m\u001b[0mout\u001b[0m\u001b[1;33m,\u001b[0m \u001b[0mdata\u001b[0m\u001b[1;33m.\u001b[0m\u001b[0my\u001b[0m\u001b[1;33m.\u001b[0m\u001b[0mreshape\u001b[0m\u001b[1;33m(\u001b[0m\u001b[1;33m-\u001b[0m\u001b[1;36m1\u001b[0m\u001b[1;33m,\u001b[0m \u001b[1;36m1\u001b[0m\u001b[1;33m)\u001b[0m\u001b[1;33m)\u001b[0m\u001b[1;33m\u001b[0m\u001b[1;33m\u001b[0m\u001b[0m\n\u001b[1;32m----> 9\u001b[1;33m         \u001b[0mloss\u001b[0m\u001b[1;33m.\u001b[0m\u001b[0mbackward\u001b[0m\u001b[1;33m(\u001b[0m\u001b[1;33m)\u001b[0m\u001b[1;33m\u001b[0m\u001b[1;33m\u001b[0m\u001b[0m\n\u001b[0m\u001b[0;32m     10\u001b[0m         \u001b[0mepoch_loss\u001b[0m \u001b[1;33m+=\u001b[0m \u001b[0mloss\u001b[0m\u001b[1;33m\u001b[0m\u001b[1;33m\u001b[0m\u001b[0m\n\u001b[0;32m     11\u001b[0m         \u001b[0moptimizer\u001b[0m\u001b[1;33m.\u001b[0m\u001b[0mstep\u001b[0m\u001b[1;33m(\u001b[0m\u001b[1;33m)\u001b[0m\u001b[1;33m\u001b[0m\u001b[1;33m\u001b[0m\u001b[0m\n",
      "\u001b[1;32mD:\\Programs\\Anaconda\\envs\\ase\\lib\\site-packages\\torch\\_tensor.py\u001b[0m in \u001b[0;36mbackward\u001b[1;34m(self, gradient, retain_graph, create_graph, inputs)\u001b[0m\n\u001b[0;32m    305\u001b[0m                 \u001b[0mcreate_graph\u001b[0m\u001b[1;33m=\u001b[0m\u001b[0mcreate_graph\u001b[0m\u001b[1;33m,\u001b[0m\u001b[1;33m\u001b[0m\u001b[1;33m\u001b[0m\u001b[0m\n\u001b[0;32m    306\u001b[0m                 inputs=inputs)\n\u001b[1;32m--> 307\u001b[1;33m         \u001b[0mtorch\u001b[0m\u001b[1;33m.\u001b[0m\u001b[0mautograd\u001b[0m\u001b[1;33m.\u001b[0m\u001b[0mbackward\u001b[0m\u001b[1;33m(\u001b[0m\u001b[0mself\u001b[0m\u001b[1;33m,\u001b[0m \u001b[0mgradient\u001b[0m\u001b[1;33m,\u001b[0m \u001b[0mretain_graph\u001b[0m\u001b[1;33m,\u001b[0m \u001b[0mcreate_graph\u001b[0m\u001b[1;33m,\u001b[0m \u001b[0minputs\u001b[0m\u001b[1;33m=\u001b[0m\u001b[0minputs\u001b[0m\u001b[1;33m)\u001b[0m\u001b[1;33m\u001b[0m\u001b[1;33m\u001b[0m\u001b[0m\n\u001b[0m\u001b[0;32m    308\u001b[0m \u001b[1;33m\u001b[0m\u001b[0m\n\u001b[0;32m    309\u001b[0m     \u001b[1;32mdef\u001b[0m \u001b[0mregister_hook\u001b[0m\u001b[1;33m(\u001b[0m\u001b[0mself\u001b[0m\u001b[1;33m,\u001b[0m \u001b[0mhook\u001b[0m\u001b[1;33m)\u001b[0m\u001b[1;33m:\u001b[0m\u001b[1;33m\u001b[0m\u001b[1;33m\u001b[0m\u001b[0m\n",
      "\u001b[1;32mD:\\Programs\\Anaconda\\envs\\ase\\lib\\site-packages\\torch\\autograd\\__init__.py\u001b[0m in \u001b[0;36mbackward\u001b[1;34m(tensors, grad_tensors, retain_graph, create_graph, grad_variables, inputs)\u001b[0m\n\u001b[0;32m    154\u001b[0m     Variable._execution_engine.run_backward(\n\u001b[0;32m    155\u001b[0m         \u001b[0mtensors\u001b[0m\u001b[1;33m,\u001b[0m \u001b[0mgrad_tensors_\u001b[0m\u001b[1;33m,\u001b[0m \u001b[0mretain_graph\u001b[0m\u001b[1;33m,\u001b[0m \u001b[0mcreate_graph\u001b[0m\u001b[1;33m,\u001b[0m \u001b[0minputs\u001b[0m\u001b[1;33m,\u001b[0m\u001b[1;33m\u001b[0m\u001b[1;33m\u001b[0m\u001b[0m\n\u001b[1;32m--> 156\u001b[1;33m         allow_unreachable=True, accumulate_grad=True)  # allow_unreachable flag\n\u001b[0m\u001b[0;32m    157\u001b[0m \u001b[1;33m\u001b[0m\u001b[0m\n\u001b[0;32m    158\u001b[0m \u001b[1;33m\u001b[0m\u001b[0m\n",
      "\u001b[1;31mKeyboardInterrupt\u001b[0m: "
     ]
    }
   ],
   "source": [
    "train_losses = []\n",
    "val_losses = []\n",
    "epochs = 400\n",
    "for epoch in range(1, epochs+1):\n",
    "    train_loss = train()\n",
    "    val_loss = validate(val_loader)\n",
    "    if epoch % 10 == 0:\n",
    "        train_losses.append(train_loss)\n",
    "        val_losses.append(val_loss)\n",
    "        print(f'Epoch: {epoch}, Train Loss: {train_loss:.4f}, Validation Loss: {validation_loss:.4f}')"
   ]
  },
  {
   "cell_type": "code",
   "execution_count": 36,
   "id": "55872c23",
   "metadata": {},
   "outputs": [
    {
     "ename": "NameError",
     "evalue": "name 'database' is not defined",
     "output_type": "error",
     "traceback": [
      "\u001b[1;31m---------------------------------------------------------------------------\u001b[0m",
      "\u001b[1;31mNameError\u001b[0m                                 Traceback (most recent call last)",
      "\u001b[1;32m~\\AppData\\Local\\Temp\\ipykernel_544\\2005750318.py\u001b[0m in \u001b[0;36m<module>\u001b[1;34m\u001b[0m\n\u001b[1;32m----> 1\u001b[1;33m \u001b[0mdatabase\u001b[0m\u001b[1;33m\u001b[0m\u001b[1;33m\u001b[0m\u001b[0m\n\u001b[0m",
      "\u001b[1;31mNameError\u001b[0m: name 'database' is not defined"
     ]
    }
   ],
   "source": [
    "database"
   ]
  }
 ],
 "metadata": {
  "kernelspec": {
   "display_name": "Python 3 (ipykernel)",
   "language": "python",
   "name": "python3"
  },
  "language_info": {
   "codemirror_mode": {
    "name": "ipython",
    "version": 3
   },
   "file_extension": ".py",
   "mimetype": "text/x-python",
   "name": "python",
   "nbconvert_exporter": "python",
   "pygments_lexer": "ipython3",
   "version": "3.7.13"
  }
 },
 "nbformat": 4,
 "nbformat_minor": 5
}
